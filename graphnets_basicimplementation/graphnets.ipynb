{
 "cells": [
  {
   "cell_type": "code",
   "execution_count": null,
   "id": "d1d8be34-9b4d-4ed1-93d9-6dd06aacbb11",
   "metadata": {},
   "outputs": [],
   "source": [
    "import os\n",
    "import torch\n",
    "import torch.nn.functional as F\n",
    "\n",
    "from tqdm import tqdm\n",
    "from torch_geometric.loader import NeighborLoader\n",
    "from torch.optim.lr_scheduler import ReduceLROnPlateau\n",
    "from torch_geometric.nn import MessagePassing, SAGEConv\n",
    "from ogb.nodeproppred import Evaluator, PygNodePropPredDataset"
   ]
  },
  {
   "cell_type": "code",
   "execution_count": null,
   "id": "dd4f22d0-311a-4c33-a0a5-5d4aed9022ba",
   "metadata": {},
   "outputs": [],
   "source": [
    "target_dataset = 'ogbn-arxiv'# This will download the ogbn-arxiv to the 'networks' folder\n",
    "dataset = PygNodePropPredDataset(name=target_dataset, root='networks')"
   ]
  },
  {
   "cell_type": "code",
   "execution_count": null,
   "id": "2fcc5703-9747-4f44-9de8-23559150348d",
   "metadata": {},
   "outputs": [],
   "source": [
    "dataset[0]"
   ]
  },
  {
   "cell_type": "code",
   "execution_count": null,
   "id": "5f26b3bb-7219-4fc8-951b-32827d18381d",
   "metadata": {},
   "outputs": [],
   "source": [
    "split_idx = dataset.get_idx_split() \n",
    "        \n",
    "train_idx = split_idx['train']\n",
    "valid_idx = split_idx['valid']\n",
    "test_idx = split_idx['test']"
   ]
  },
  {
   "cell_type": "code",
   "execution_count": null,
   "id": "a1181577-e6ce-43f3-aabe-6cedb7f7ece2",
   "metadata": {},
   "outputs": [],
   "source": [
    "data = dataset[0]"
   ]
  },
  {
   "cell_type": "code",
   "execution_count": null,
   "id": "1bc9c669-74a9-48b9-ae06-fa2defa87cef",
   "metadata": {},
   "outputs": [],
   "source": [
    "train_loader = NeighborLoader(data, input_nodes=train_idx,\n",
    "                              shuffle=True, num_workers=os.cpu_count() - 2,\n",
    "                              batch_size=1024, num_neighbors=[30] * 2)\n",
    "total_loader = NeighborLoader(data, input_nodes=None, num_neighbors=[-1],\n",
    "                               batch_size=4096, shuffle=False,\n",
    "                               num_workers=os.cpu_count() - 2)"
   ]
  },
  {
   "cell_type": "code",
   "execution_count": null,
   "id": "ec13146c-aca8-4740-ae9c-cdf4f3e3e0c6",
   "metadata": {},
   "outputs": [],
   "source": [
    "class SAGE(torch.nn.Module):\n",
    "    def __init__(self, in_channels,\n",
    "                 hidden_channels, out_channels,\n",
    "                 n_layers=2):\n",
    "        \n",
    "        super(SAGE, self).__init__()\n",
    "        self.n_layers = n_layers    \n",
    "        self.layers = torch.nn.ModuleList()\n",
    "        self.layers_bn = torch.nn.ModuleList()\n",
    "        if n_layers == 1:\n",
    "            self.layers.append(SAGEConv(in_channels, out_channels,   normalize=False))\n",
    "        elif n_layers == 2:\n",
    "            self.layers.append(SAGEConv(in_channels, hidden_channels, normalize=False))\n",
    "            self.layers_bn.append(torch.nn.BatchNorm1d(hidden_channels))\n",
    "            self.layers.append(SAGEConv(hidden_channels, out_channels, normalize=False))\n",
    "        else:\n",
    "            self.layers.append(SAGEConv(in_channels, hidden_channels, normalize=False))\n",
    "            self.layers_bn.append(torch.nn.BatchNorm1d(hidden_channels))    \n",
    "        \n",
    "        for _ in range(n_layers - 2):\n",
    "            self.layers.append(SAGEConv(hidden_channels,  hidden_channels, normalize=False))\n",
    "            self.layers_bn.append(torch.nn.BatchNorm1d(hidden_channels))\n",
    "            \n",
    "            self.layers.append(SAGEConv(hidden_channels, out_channels, normalize=False))\n",
    "            \n",
    "        for layer in self.layers:\n",
    "            layer.reset_parameters()    \n",
    "            \n",
    "    def forward(self, x, edge_index):\n",
    "        if len(self.layers) > 1:\n",
    "            looper = self.layers[:-1]\n",
    "        else:\n",
    "            looper = self.layers\n",
    "        \n",
    "        for i, layer in enumerate(looper):\n",
    "            x = layer(x, edge_index)\n",
    "            try:\n",
    "                x = self.layers_bn[i](x)\n",
    "            except Exception as e:\n",
    "                abs(1)\n",
    "            finally:\n",
    "                x = F.relu(x)\n",
    "                x = F.dropout(x, p=0.5, training=self.training)\n",
    "        \n",
    "        if len(self.layers) > 1:\n",
    "            x = self.layers[-1](x, edge_index)        \n",
    "        return F.log_softmax(x, dim=-1), torch.var(x)\n",
    "    \n",
    "    def inference(self, total_loader, device):\n",
    "        xs = []\n",
    "        var_ = []\n",
    "        for batch in total_loader:\n",
    "            out, var = self.forward(batch.x.to(device), batch.edge_index.to(device))\n",
    "            out = out[:batch.batch_size]\n",
    "            xs.append(out.cpu())\n",
    "            var_.append(var.item())\n",
    "        \n",
    "        out_all = torch.cat(xs, dim=0)\n",
    "        \n",
    "        return out_all, var_"
   ]
  },
  {
   "cell_type": "code",
   "execution_count": null,
   "id": "be84570f-01b3-487f-ae02-140119ea8d51",
   "metadata": {},
   "outputs": [],
   "source": [
    "device = torch.device('cuda' if torch.cuda.is_available() else 'cpu')\n",
    "model = SAGE(data.x.shape[1], 256, dataset.num_classes, n_layers=2)\n",
    "model.to(device)\n",
    "epochs = 100\n",
    "optimizer = torch.optim.Adam(model.parameters(), lr=0.03)\n",
    "scheduler = ReduceLROnPlateau(optimizer, 'max', patience=7)"
   ]
  },
  {
   "cell_type": "code",
   "execution_count": null,
   "id": "7214cc84-bd6f-422e-b0e7-99db5f8910ca",
   "metadata": {},
   "outputs": [],
   "source": [
    "def test(model, device):\n",
    "    evaluator = Evaluator(name=target_dataset)\n",
    "    model.eval()\n",
    "    out, var = model.inference(total_loader, device)    \n",
    "    y_true = data.y.cpu()\n",
    "    y_pred = out.argmax(dim=-1, keepdim=True)    \n",
    "    train_acc = evaluator.eval({'y_true': y_true[split_idx['train']],'y_pred': y_pred[split_idx['train']],})['acc']\n",
    "    val_acc = evaluator.eval({'y_true': y_true[split_idx['valid']],'y_pred': y_pred[split_idx['valid']],})['acc']\n",
    "    test_acc = evaluator.eval({'y_true': y_true[split_idx['test']],'y_pred': y_pred[split_idx['test']],})['acc']\n",
    "    \n",
    "    return train_acc, val_acc, test_acc, torch.mean(torch.Tensor(var))"
   ]
  },
  {
   "cell_type": "code",
   "execution_count": null,
   "id": "fddc5e0e-573d-43b2-81c9-1eeb73207050",
   "metadata": {},
   "outputs": [],
   "source": [
    "for epoch in range(1, epochs):\n",
    "    model.train()    \n",
    "    pbar = tqdm(total=train_idx.size(0))\n",
    "    pbar.set_description(f'Epoch {epoch:02d}')    \n",
    "    total_loss = total_correct = 0    \n",
    "    \n",
    "    for batch in train_loader:\n",
    "        batch_size = batch.batch_size\n",
    "        optimizer.zero_grad()        \n",
    "        out, _ = model(batch.x.to(device), batch.edge_index.to(device))\n",
    "        out = out[:batch_size]        \n",
    "        batch_y = batch.y[:batch_size].to(device)\n",
    "        batch_y = torch.reshape(batch_y, (-1,))        \n",
    "        loss = F.nll_loss(out, batch_y)\n",
    "        loss.backward()\n",
    "        optimizer.step()        \n",
    "        total_loss += float(loss)\n",
    "        total_correct += int(out.argmax(dim=-1).eq(batch_y).sum())\n",
    "        pbar.update(batch.batch_size)    \n",
    "        pbar.close()    \n",
    "        loss = total_loss / len(train_loader)\n",
    "    approx_acc = total_correct / train_idx.size(0)    \n",
    "    train_acc, val_acc, test_acc, var = test(model, device)\n",
    "    \n",
    "    print(f'Train: {train_acc:.4f}, Val: {val_acc:.4f}, Test: {test_acc:.4f}, Var: {var:.4f}')"
   ]
  },
  {
   "cell_type": "code",
   "execution_count": null,
   "id": "c2ef1bb7-4aed-4a1a-8cfb-51cee1898097",
   "metadata": {},
   "outputs": [],
   "source": []
  },
  {
   "cell_type": "code",
   "execution_count": null,
   "id": "30455d1f-eda8-4762-81f5-0ec1379b491c",
   "metadata": {},
   "outputs": [],
   "source": []
  }
 ],
 "metadata": {
  "kernelspec": {
   "display_name": "Python 3 (ipykernel)",
   "language": "python",
   "name": "python3"
  },
  "language_info": {
   "codemirror_mode": {
    "name": "ipython",
    "version": 3
   },
   "file_extension": ".py",
   "mimetype": "text/x-python",
   "name": "python",
   "nbconvert_exporter": "python",
   "pygments_lexer": "ipython3",
   "version": "3.11.8"
  }
 },
 "nbformat": 4,
 "nbformat_minor": 5
}
