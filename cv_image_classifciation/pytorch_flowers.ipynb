{
 "cells": [
  {
   "cell_type": "code",
   "execution_count": 59,
   "metadata": {
    "scrolled": true
   },
   "outputs": [],
   "source": [
    "import os\n",
    "import math\n",
    "import numpy as np\n",
    "import time\n",
    "\n",
    "import torch\n",
    "import torch.nn as nn\n",
    "import torch.nn.functional as F\n",
    "from torch.autograd import Variable\n",
    "import torch.utils.data as data\n",
    "import torchvision\n",
    "from torchvision import transforms\n",
    "\n",
    "import seaborn as sns\n",
    "import matplotlib.pyplot as plt\n",
    "from matplotlib import style\n",
    "\n",
    "plt.style.use('fivethirtyeight')\n",
    "sns.set(style='whitegrid',color_codes=True)"
   ]
  },
  {
   "cell_type": "code",
   "execution_count": 60,
   "metadata": {},
   "outputs": [],
   "source": [
    "DEVICE = torch.device(\"cuda:0\" if torch.cuda.is_available() else \"cpu\")\n",
    "\n",
    "EPOCHS = 10\n",
    "BATCH_SIZE = 30\n",
    "LEARNING_RATE = 0.003\n",
    "IMG_SIZE = 64\n",
    "CONV_SIZE = math.floor((((IMG_SIZE-2)/2)-2)/2)\n",
    "\n",
    "data_path = os.path.dirname(os.getcwd()) + \"\\_datasets\"\n",
    "TRAIN_DATA_PATH = data_path + \"\\\\flowers_train_test\\\\train\"\n",
    "TEST_DATA_PATH = data_path + \"\\\\flowers_train_test\\\\test\"\n",
    "\n",
    "TRANSFORM_IMG = transforms.Compose([\n",
    "    transforms.Resize(IMG_SIZE),\n",
    "    transforms.CenterCrop(IMG_SIZE),\n",
    "    transforms.ToTensor(),\n",
    "    transforms.Normalize(mean=[0.485, 0.456, 0.406],\n",
    "                          std=[0.229, 0.224, 0.225])])\n",
    "\n",
    "train_data = torchvision.datasets.ImageFolder(root=TRAIN_DATA_PATH, transform=TRANSFORM_IMG)\n",
    "train_data_loader = data.DataLoader(train_data, batch_size=BATCH_SIZE, shuffle=True,  num_workers=4)\n",
    "test_data = torchvision.datasets.ImageFolder(root=TEST_DATA_PATH, transform=TRANSFORM_IMG)\n",
    "test_data_loader = data.DataLoader(test_data, batch_size=BATCH_SIZE, shuffle=True, num_workers=4)"
   ]
  },
  {
   "cell_type": "code",
   "execution_count": 61,
   "metadata": {},
   "outputs": [
    {
     "data": {
      "text/plain": [
       "<torch.utils.data.dataloader.DataLoader at 0x1e78a094d60>"
      ]
     },
     "execution_count": 61,
     "metadata": {},
     "output_type": "execute_result"
    }
   ],
   "source": [
    "train_data_loader"
   ]
  },
  {
   "cell_type": "code",
   "execution_count": 62,
   "metadata": {},
   "outputs": [
    {
     "name": "stdout",
     "output_type": "stream",
     "text": [
      "158\n",
      "510\n"
     ]
    },
    {
     "data": {
      "text/plain": [
       "['daisy']"
      ]
     },
     "execution_count": 62,
     "metadata": {},
     "output_type": "execute_result"
    }
   ],
   "source": [
    "print(len(train_data))\n",
    "print(len(test_data))\n",
    "train_data.classes"
   ]
  },
  {
   "cell_type": "code",
   "execution_count": 63,
   "metadata": {},
   "outputs": [],
   "source": [
    "def calc_accuracy(true, pred):\n",
    "    pred = F.softmax(pred, dim=1)\n",
    "    true = torch.zeros(pred.shape[0], pred.shape[1]).scatter_(1, true.unsqueeze(1), 1.)\n",
    "    acc = (true.argmax(-1) == pred.argmax(-1)).float().detach().numpy()\n",
    "    acc = float((100 * acc.sum()) / len(acc))\n",
    "    return round(acc, 4)\n",
    "\n",
    "def plot_loss(train_loss, val_loss):\n",
    "    plt.plot(train_loss, label='train loss')\n",
    "    plt.plot(val_loss, label='test loss')\n",
    "    plt.xlabel('Epoch')\n",
    "    plt.legend()\n",
    "    plt.savefig('results/plot_loss.png')\n",
    "    plt.close()\n",
    "    print(\"Loss plot saved.\")\n",
    "\n",
    "def plot_accu(train_accuracy, val_accuracy):\n",
    "    plt.plot(train_accuracy, label='train accuracy')\n",
    "    plt.plot(val_accuracy, label='test accuracy')\n",
    "    plt.xlabel('Epoch')\n",
    "    plt.ylabel('Percent')\n",
    "    plt.legend()\n",
    "    plt.savefig('results/plot_accu.png')\n",
    "    plt.close()\n",
    "    print(\"Accu plot saved.\")"
   ]
  },
  {
   "cell_type": "code",
   "execution_count": 64,
   "metadata": {
    "scrolled": false
   },
   "outputs": [],
   "source": [
    "class Flower_Net_1(nn.Module):\n",
    "    def __init__(self):\n",
    "        super(Flower_Net_1,self).__init__()\n",
    "        self.layer1 = nn.Sequential(nn.Conv2d(3,8,kernel_size=3,padding=1),nn.AvgPool2d(kernel_size=3,padding=1))\n",
    "        self.layer2 = nn.Sequential(nn.Conv2d(8,16,kernel_size=3,padding=1),nn.MaxPool2d(kernel_size=3,padding=1))\n",
    "        self.layer3 = nn.Sequential(nn.Conv2d(16,8,kernel_size=3,padding=1),nn.MaxPool2d(kernel_size=3,padding=1))\n",
    "        self.flatten = nn.Flatten()\n",
    "\n",
    "    def forward(self,x):\n",
    "        x = F.relu(self.layer1(x))\n",
    "        x = F.relu(self.layer2(x))\n",
    "        x = F.relu(self.layer3(x))\n",
    "        out = self.flatten(x)\n",
    "        return out\n",
    "\n",
    "class Flower_Net_2(nn.Module):\n",
    "    def __init__(self):\n",
    "        super(Flower_Net_2,self).__init__()\n",
    "        self.layer1 = nn.Sequential(nn.Conv2d(3,16,kernel_size=3,padding=1),nn.AvgPool2d(kernel_size=3,padding=1))\n",
    "        self.layer2 = nn.Sequential(nn.Conv2d(16,32,kernel_size=3,padding=1),nn.MaxPool2d(kernel_size=3,padding=1))\n",
    "        self.layer3 = nn.Sequential(nn.Conv2d(32,8,kernel_size=3,padding=1),nn.MaxPool2d(kernel_size=3,padding=1))\n",
    "        self.flatten = nn.Flatten()\n",
    "\n",
    "    def forward(self,x):\n",
    "        x = F.relu(self.layer1(x))\n",
    "        x = F.relu(self.layer2(x))\n",
    "        x = F.relu(self.layer3(x))\n",
    "        out = self.flatten(x)\n",
    "        return out\n",
    "    \n",
    "class Flower_Net_3(nn.Module):\n",
    "    def __init__(self):\n",
    "        super(Flower_Net_3,self).__init__()\n",
    "        self.layer1 = nn.Sequential(nn.Conv2d(3,32,kernel_size=3,padding=1),nn.AvgPool2d(kernel_size=3,padding=1))\n",
    "        self.layer2 = nn.Sequential(nn.Conv2d(32,8,kernel_size=3,padding=1),nn.MaxPool2d(kernel_size=3,padding=1))\n",
    "        self.layer3 = nn.Sequential(nn.Conv2d(8,8,kernel_size=3,padding=1),nn.MaxPool2d(kernel_size=3,padding=1))\n",
    "        self.flatten = nn.Flatten()\n",
    "\n",
    "    def forward(self,x):\n",
    "        x = F.relu(self.layer1(x))\n",
    "        x = F.relu(self.layer2(x))\n",
    "        x = F.relu(self.layer3(x))\n",
    "        out = self.flatten(x)\n",
    "        return out\n",
    "\n",
    "class ensemble_Net(nn.Module):    \n",
    "    def __init__(self):\n",
    "        super(ensemble_Net,self).__init__()\n",
    "        f1 = Flower_Net_1()\n",
    "        f2 = Flower_Net_2()\n",
    "        f3 = Flower_Net_3()\n",
    "        self.e1 = f1\n",
    "        self.e2 = f2\n",
    "        self.e3 = f3\n",
    "        self.avgpool = nn.AvgPool1d(kernel_size=1)\n",
    "        self.fc1 = nn.Linear(216,30)\n",
    "        self.fc2 = nn.Linear(30,5)\n",
    "    \n",
    "    def forward(self,x):\n",
    "        o1 = self.e1(x)\n",
    "    \n",
    "        o2 = self.e2(x)\n",
    "        o3 = self.e3(x)\n",
    "        x = torch.cat((o1,o2,o3),dim=1)\n",
    "        #print(x.size())\n",
    "        x = self.fc1(x)\n",
    "        out = self.fc2(x)\n",
    "        \n",
    "        return out\n",
    "    \n",
    "        \n",
    "model = ensemble_Net()"
   ]
  },
  {
   "cell_type": "code",
   "execution_count": 65,
   "metadata": {},
   "outputs": [],
   "source": [
    "model.to(DEVICE)\n",
    "criterion = nn.CrossEntropyLoss()\n",
    "optimizer = torch.optim.Adam(model.parameters(),lr=LEARNING_RATE, weight_decay=LEARNING_RATE)"
   ]
  },
  {
   "cell_type": "code",
   "execution_count": 66,
   "metadata": {},
   "outputs": [
    {
     "name": "stdout",
     "output_type": "stream",
     "text": [
      "@@ Epoch 0 = 4s\n",
      "Train Loss = 0.77\n",
      "Train Accu = 83 %\n",
      "Valid Loss = 11.62\n",
      "Valid Accu = 20 % \n",
      "\n",
      "@@ Epoch 1 = 4s\n",
      "Train Loss = 0.0\n",
      "Train Accu = 100 %\n",
      "Valid Loss = 55.85\n",
      "Valid Accu = 20 % \n",
      "\n",
      "@@ Epoch 2 = 4s\n",
      "Train Loss = 0.0\n",
      "Train Accu = 100 %\n",
      "Valid Loss = 105.0\n",
      "Valid Accu = 20 % \n",
      "\n",
      "@@ Epoch 3 = 4s\n",
      "Train Loss = 0.0\n",
      "Train Accu = 100 %\n",
      "Valid Loss = 139.92\n",
      "Valid Accu = 20 % \n",
      "\n",
      "@@ Epoch 4 = 4s\n",
      "Train Loss = 0.0\n",
      "Train Accu = 100 %\n",
      "Valid Loss = 157.89\n",
      "Valid Accu = 20 % \n",
      "\n",
      "@@ Epoch 5 = 4s\n",
      "Train Loss = 0.0\n",
      "Train Accu = 100 %\n",
      "Valid Loss = 162.86\n",
      "Valid Accu = 20 % \n",
      "\n",
      "@@ Epoch 6 = 4s\n",
      "Train Loss = 0.0\n",
      "Train Accu = 100 %\n",
      "Valid Loss = 159.66\n",
      "Valid Accu = 20 % \n",
      "\n",
      "@@ Epoch 7 = 5s\n",
      "Train Loss = 0.0\n",
      "Train Accu = 100 %\n",
      "Valid Loss = 151.98\n",
      "Valid Accu = 20 % \n",
      "\n",
      "@@ Epoch 8 = 5s\n",
      "Train Loss = 0.0\n",
      "Train Accu = 100 %\n",
      "Valid Loss = 142.23\n",
      "Valid Accu = 20 % \n",
      "\n",
      "@@ Epoch 9 = 4s\n",
      "Train Loss = 0.0\n",
      "Train Accu = 100 %\n",
      "Valid Loss = 131.79\n",
      "Valid Accu = 20 % \n",
      "\n",
      "Loss plot saved.\n",
      "Accu plot saved.\n"
     ]
    }
   ],
   "source": [
    "import torch.nn.functional as F \n",
    "\n",
    "# train_data_loader, test_data_loader = data_loader(TRAIN_DATA_PATH, TEST_DATA_PATH)\n",
    "model = ensemble_Net()\n",
    "model.to(DEVICE)\n",
    "criterion = nn.CrossEntropyLoss()\n",
    "optimizer = torch.optim.Adam(model.parameters(), lr=LEARNING_RATE, weight_decay=LEARNING_RATE)\n",
    "\n",
    "train_loss = []\n",
    "train_accuracy = []\n",
    "val_loss = []\n",
    "val_accuracy = []\n",
    "\n",
    "for epoch in range(EPOCHS):\n",
    "\n",
    "    start = time.time()\n",
    "\n",
    "    train_epoch_loss = []\n",
    "    train_epoch_accuracy = []\n",
    "    val_epoch_loss = []\n",
    "    val_epoch_accuracy = []\n",
    "\n",
    "    for images, labels in train_data_loader:\n",
    "        images = images.to(DEVICE)\n",
    "        labels = labels.to(DEVICE)\n",
    "\n",
    "        optimizer.zero_grad()\n",
    "        preds = model(images)\n",
    "\n",
    "        acc = calc_accuracy(labels.cpu(), preds.cpu())\n",
    "        loss = criterion(preds, labels)\n",
    "        loss.backward()\n",
    "        optimizer.step()\n",
    "\n",
    "        loss_value = loss.item()\n",
    "        train_epoch_loss.append(loss_value)\n",
    "        train_epoch_accuracy.append(acc)\n",
    "\n",
    "    for images, labels in test_data_loader:\n",
    "        images = images.to(DEVICE)\n",
    "        labels = labels.to(DEVICE)\n",
    "\n",
    "        preds = model(images)\n",
    "        acc = calc_accuracy(labels.cpu(), preds.cpu())\n",
    "        loss = criterion(preds, labels)\n",
    "\n",
    "        loss_value = loss.item()\n",
    "        val_epoch_loss.append(loss_value)\n",
    "        val_epoch_accuracy.append(acc)\n",
    "\n",
    "    train_epoch_loss = np.mean(train_epoch_loss)\n",
    "    train_epoch_accuracy = np.mean(train_epoch_accuracy)\n",
    "    val_epoch_loss = np.mean(val_epoch_loss)\n",
    "    val_epoch_accuracy = np.mean(val_epoch_accuracy)\n",
    "\n",
    "    end = time.time()\n",
    "\n",
    "    train_loss.append(train_epoch_loss)\n",
    "    train_accuracy.append(train_epoch_accuracy)\n",
    "    val_loss.append(val_epoch_loss)\n",
    "    val_accuracy.append(val_epoch_accuracy)\n",
    "\n",
    "    print(\"@@ Epoch {} = {}s\".format(epoch, int(end - start)))\n",
    "    print(\"Train Loss = {}\".format(round(train_epoch_loss, 2)))\n",
    "    print(\"Train Accu = {} %\".format(round(train_epoch_accuracy), 2))\n",
    "    print(\"Valid Loss = {}\".format(round(val_epoch_loss, 2)))\n",
    "    print(\"Valid Accu = {} % \\n\".format(round(val_epoch_accuracy), 2))\n",
    "\n",
    "plot_loss(train_loss, val_loss)\n",
    "plot_accu(train_accuracy, val_accuracy)"
   ]
  },
  {
   "cell_type": "code",
   "execution_count": 68,
   "metadata": {},
   "outputs": [
    {
     "data": {
      "text/plain": [
       "<matplotlib.legend.Legend at 0x1e78ec03910>"
      ]
     },
     "execution_count": 68,
     "metadata": {},
     "output_type": "execute_result"
    },
    {
     "data": {
      "image/png": "[encoded data removed]",
      "text/plain": [
       "<Figure size 432x288 with 1 Axes>"
      ]
     },
     "metadata": {},
     "output_type": "display_data"
    }
   ],
   "source": [
    "plt.plot(train_loss, label='train loss')\n",
    "plt.plot(val_loss, label='val loss')\n",
    "plt.legend()"
   ]
  },
  {
   "cell_type": "code",
   "execution_count": null,
   "metadata": {},
   "outputs": [],
   "source": [
    "plt.plot(train_correct, label='train correct')\n",
    "plt.plot(test_correct, label='test correct')\n",
    "plt.legend()"
   ]
  }
 ],
 "metadata": {
  "kernelspec": {
   "display_name": "Python 3 (ipykernel)",
   "language": "python",
   "name": "python3"
  },
  "language_info": {
   "codemirror_mode": {
    "name": "ipython",
    "version": 3
   },
   "file_extension": ".py",
   "mimetype": "text/x-python",
   "name": "python",
   "nbconvert_exporter": "python",
   "pygments_lexer": "ipython3",
   "version": "3.9.7"
  }
 },
 "nbformat": 4,
 "nbformat_minor": 4
}
