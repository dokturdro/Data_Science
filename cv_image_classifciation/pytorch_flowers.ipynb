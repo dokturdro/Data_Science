{
 "cells": [
  {
   "cell_type": "code",
   "execution_count": 2,
   "metadata": {},
   "outputs": [],
   "source": [
    "import os\n",
    "import math\n",
    "import numpy as np\n",
    "\n",
    "import torch\n",
    "import torch.nn as nn\n",
    "import torch.nn.functional as F\n",
    "from torch.autograd import Variable\n",
    "import torch.utils.data as data\n",
    "import torchvision\n",
    "from torchvision import transforms\n",
    "\n",
    "import seaborn as sns\n",
    "import matplotlib.pyplot as plt\n",
    "from matplotlib import style\n",
    "\n",
    "style.use('fivethirtyeight')\n",
    "sns.set(style='whitegrid',color_codes=True)"
   ]
  },
  {
   "cell_type": "code",
   "execution_count": 3,
   "metadata": {},
   "outputs": [],
   "source": [
    "EPOCHS = 10\n",
    "BATCH_SIZE = 30\n",
    "LEARNING_RATE = 0.003\n",
    "IMG_SIZE = 64\n",
    "CONV_SIZE = math.floor((((IMG_SIZE-2)/2)-2)/2)\n",
    "\n",
    "TRAIN_DATA_PATH = \"C:/Users/Administrator/Desktop/programming/datasets/images/flowers_train_test/train\"\n",
    "TEST_DATA_PATH = \"C:/Users/Administrator/Desktop/programming/datasets/images/flowers_train_test/test\"\n",
    "\n",
    "TRANSFORM_IMG = transforms.Compose([\n",
    "    transforms.Resize(IMG_SIZE),\n",
    "    transforms.CenterCrop(IMG_SIZE),\n",
    "    transforms.ToTensor(),\n",
    "    transforms.Normalize(mean=[0.485, 0.456, 0.406],\n",
    "                          std=[0.229, 0.224, 0.225])])\n",
    "\n",
    "train_data = torchvision.datasets.ImageFolder(root=TRAIN_DATA_PATH, transform=TRANSFORM_IMG)\n",
    "train_data_loader = data.DataLoader(train_data, batch_size=BATCH_SIZE, shuffle=True,  num_workers=4)\n",
    "test_data = torchvision.datasets.ImageFolder(root=TEST_DATA_PATH, transform=TRANSFORM_IMG)\n",
    "test_data_loader = data.DataLoader(test_data, batch_size=BATCH_SIZE, shuffle=True, num_workers=4)"
   ]
  },
  {
   "cell_type": "code",
   "execution_count": 4,
   "metadata": {},
   "outputs": [
    {
     "name": "stdout",
     "output_type": "stream",
     "text": [
      "3813\n",
      "510\n"
     ]
    },
    {
     "data": {
      "text/plain": [
       "['daisy', 'dandelion', 'rose', 'sunflower', 'tulip']"
      ]
     },
     "execution_count": 4,
     "metadata": {},
     "output_type": "execute_result"
    }
   ],
   "source": [
    "print(len(train_data))\n",
    "print(len(test_data))\n",
    "train_data.classes"
   ]
  },
  {
   "cell_type": "code",
   "execution_count": 5,
   "metadata": {},
   "outputs": [],
   "source": [
    "class ConvolutionalNetwork(nn.Module):\n",
    "    def __init__(self):\n",
    "        super().__init__()\n",
    "        self.conv1 = nn.Conv2d(3, 8, 3, 1)\n",
    "        self.conv2 = nn.Conv2d(8, 16, 3, 1)\n",
    "        self.fc1 = nn.Linear(CONV_SIZE**2*16, 256)\n",
    "        self.fc2 = nn.Linear(256, 64)\n",
    "        self.fc3 = nn.Linear(64, 5)\n",
    "\n",
    "    def forward(self, x):\n",
    "        x = F.relu(self.conv1(x))\n",
    "        x = F.max_pool2d(x, 2, 2)\n",
    "        x = F.relu(self.conv2(x))\n",
    "        x = F.max_pool2d(x, 2, 2)\n",
    "        x = x.view(-1, CONV_SIZE**2*16)\n",
    "        x = F.relu(self.fc1(x))\n",
    "        x = F.relu(self.fc2(x))\n",
    "        x = self.fc3(x)\n",
    "        x = F.log_softmax(x, dim=1)\n",
    "        return x"
   ]
  },
  {
   "cell_type": "code",
   "execution_count": 6,
   "metadata": {},
   "outputs": [],
   "source": [
    "CNNmodel = ConvolutionalNetwork()\n",
    "criterion = nn.CrossEntropyLoss()\n",
    "optimizer = torch.optim.Adam(CNNmodel.parameters(), lr=LEARNING_RATE)"
   ]
  },
  {
   "cell_type": "code",
   "execution_count": 7,
   "metadata": {},
   "outputs": [
    {
     "name": "stdout",
     "output_type": "stream",
     "text": [
      "epoch: 0   batch: 1   loss: 1.143551\n",
      "epoch: 0   batch: 2   loss: 1.252975\n",
      "epoch: 0   batch: 3   loss: 0.960164\n",
      "epoch: 0   batch: 4   loss: 0.935244\n",
      "epoch: 1   batch: 1   loss: 0.882461\n",
      "epoch: 1   batch: 2   loss: 1.186185\n",
      "epoch: 1   batch: 3   loss: 0.891134\n",
      "epoch: 1   batch: 4   loss: 1.093329\n",
      "epoch: 2   batch: 1   loss: 0.829615\n",
      "epoch: 2   batch: 2   loss: 0.800176\n",
      "epoch: 2   batch: 3   loss: 0.613306\n",
      "epoch: 2   batch: 4   loss: 0.649757\n",
      "epoch: 3   batch: 1   loss: 0.887192\n",
      "epoch: 3   batch: 2   loss: 0.566145\n",
      "epoch: 3   batch: 3   loss: 0.726783\n",
      "epoch: 3   batch: 4   loss: 0.617219\n",
      "epoch: 4   batch: 1   loss: 0.431828\n",
      "epoch: 4   batch: 2   loss: 0.296089\n",
      "epoch: 4   batch: 3   loss: 0.441438\n",
      "epoch: 4   batch: 4   loss: 0.546957\n",
      "epoch: 5   batch: 1   loss: 0.191591\n",
      "epoch: 5   batch: 2   loss: 0.326776\n",
      "epoch: 5   batch: 3   loss: 0.119922\n",
      "epoch: 5   batch: 4   loss: 0.438820\n",
      "epoch: 6   batch: 1   loss: 0.037576\n",
      "epoch: 6   batch: 2   loss: 0.305362\n",
      "epoch: 6   batch: 3   loss: 0.126946\n",
      "epoch: 6   batch: 4   loss: 0.136015\n",
      "epoch: 7   batch: 1   loss: 0.048161\n",
      "epoch: 7   batch: 2   loss: 0.814265\n",
      "epoch: 7   batch: 3   loss: 0.406042\n",
      "epoch: 7   batch: 4   loss: 0.183569\n",
      "epoch: 8   batch: 1   loss: 0.007456\n",
      "epoch: 8   batch: 2   loss: 0.041014\n",
      "epoch: 8   batch: 3   loss: 0.087898\n",
      "epoch: 8   batch: 4   loss: 0.102049\n",
      "epoch: 9   batch: 1   loss: 0.237561\n",
      "epoch: 9   batch: 2   loss: 0.155183\n",
      "epoch: 9   batch: 3   loss: 0.416741\n",
      "epoch: 9   batch: 4   loss: 0.081797\n",
      "\n",
      "Time: 133 s\n"
     ]
    }
   ],
   "source": [
    "import time\n",
    "start_time = time.time()\n",
    "\n",
    "train_loss = []\n",
    "test_loss = []\n",
    "train_correct = []\n",
    "test_correct = []\n",
    "\n",
    "for i in range(EPOCHS):\n",
    "    train_count = 0\n",
    "    test_count = 0\n",
    "    \n",
    "    for b, (X_train, y_train) in enumerate(train_data_loader):\n",
    "        \n",
    "        b+=1\n",
    "        \n",
    "        y_pred = CNNmodel(X_train)\n",
    "        loss = criterion(y_pred, y_train)\n",
    " \n",
    "        predicted = torch.max(y_pred.data, 1)[1]\n",
    "        batch_corr = (predicted == y_train).sum()\n",
    "        train_count += batch_corr\n",
    "        \n",
    "        optimizer.zero_grad()\n",
    "        loss.backward()\n",
    "        optimizer.step()\n",
    "\n",
    "        if b%30 == 0:\n",
    "            print(f'epoch: {i}   batch: {int(b/30)}   loss: {loss.item():.6f}')\n",
    "\n",
    "    train_loss.append(loss)\n",
    "    train_correct.append(train_count)\n",
    "\n",
    "    with torch.no_grad():\n",
    "        for b, (X_test, y_test) in enumerate(test_data_loader):\n",
    "            \n",
    "            y_val = CNNmodel(X_test)\n",
    "\n",
    "            predicted = torch.max(y_val.data, 1)[1] \n",
    "            test_count += (predicted == y_test).sum()\n",
    "\n",
    "    loss = criterion(y_val, y_test)\n",
    "    test_loss.append(loss)\n",
    "    test_correct.append(test_count)\n",
    "\n",
    "print(f'\\nTime: {time.time() - start_time:.0f} s')"
   ]
  },
  {
   "cell_type": "code",
   "execution_count": 8,
   "metadata": {},
   "outputs": [],
   "source": [
    "torch.save(CNNmodel.state_dict(), 'cnn_model.pt')"
   ]
  },
  {
   "cell_type": "code",
   "execution_count": 9,
   "metadata": {},
   "outputs": [
    {
     "data": {
      "text/plain": [
       "<matplotlib.legend.Legend at 0xd08a588>"
      ]
     },
     "execution_count": 9,
     "metadata": {},
     "output_type": "execute_result"
    },
    {
     "data": {
      "image/png": "[encoded data removed]",
      "text/plain": [
       "<Figure size 432x288 with 1 Axes>"
      ]
     },
     "metadata": {},
     "output_type": "display_data"
    }
   ],
   "source": [
    "plt.plot(train_loss, label='train loss')\n",
    "plt.plot(test_loss, label='test loss')\n",
    "plt.legend()"
   ]
  },
  {
   "cell_type": "code",
   "execution_count": 10,
   "metadata": {},
   "outputs": [
    {
     "data": {
      "text/plain": [
       "<matplotlib.legend.Legend at 0xde83d48>"
      ]
     },
     "execution_count": 10,
     "metadata": {},
     "output_type": "execute_result"
    },
    {
     "data": {
      "image/png": "[encoded data removed]",
      "text/plain": [
       "<Figure size 432x288 with 1 Axes>"
      ]
     },
     "metadata": {},
     "output_type": "display_data"
    }
   ],
   "source": [
    "plt.plot(train_correct, label='train correct')\n",
    "plt.plot(test_correct, label='test correct')\n",
    "plt.legend()"
   ]
  }
 ],
 "metadata": {
  "kernelspec": {
   "display_name": "Python 3",
   "language": "python",
   "name": "python3"
  },
  "language_info": {
   "codemirror_mode": {
    "name": "ipython",
    "version": 3
   },
   "file_extension": ".py",
   "mimetype": "text/x-python",
   "name": "python",
   "nbconvert_exporter": "python",
   "pygments_lexer": "ipython3",
   "version": "3.7.6"
  }
 },
 "nbformat": 4,
 "nbformat_minor": 4
}
